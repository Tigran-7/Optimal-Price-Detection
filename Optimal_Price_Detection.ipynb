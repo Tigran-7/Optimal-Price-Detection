{
  "nbformat": 4,
  "nbformat_minor": 0,
  "metadata": {
    "colab": {
      "provenance": []
    },
    "kernelspec": {
      "name": "python3",
      "display_name": "Python 3"
    },
    "language_info": {
      "name": "python"
    }
  },
  "cells": [
    {
      "cell_type": "markdown",
      "source": [
        "#                                             Optimal Price Detection"
      ],
      "metadata": {
        "id": "Hy2oQNivWcMT"
      }
    },
    {
      "cell_type": "markdown",
      "source": [
        "# Importing Libraries"
      ],
      "metadata": {
        "id": "Jf06LBcFW_Qh"
      }
    },
    {
      "cell_type": "code",
      "execution_count": 42,
      "metadata": {
        "id": "8XEitGEAKcta"
      },
      "outputs": [],
      "source": [
        "import pandas as pd\n",
        "import numpy as np\n",
        "import seaborn as sns\n",
        "import matplotlib.pyplot as plt\n",
        "from sklearn.model_selection import train_test_split\n",
        "from tensorflow.keras.models import Sequential\n",
        "from tensorflow.keras.layers import Dense"
      ]
    },
    {
      "cell_type": "markdown",
      "source": [
        "# Reading Dataset"
      ],
      "metadata": {
        "id": "FYTwXPuEXGUw"
      }
    },
    {
      "cell_type": "code",
      "source": [
        "data = pd.read_csv('benchmark_data.csv')"
      ],
      "metadata": {
        "id": "lVy07z1zPm83"
      },
      "execution_count": 43,
      "outputs": []
    },
    {
      "cell_type": "code",
      "source": [
        "data.isna().sum()"
      ],
      "metadata": {
        "colab": {
          "base_uri": "https://localhost:8080/"
        },
        "id": "TGS2ah0hRALP",
        "outputId": "ed584a68-8ffa-45b3-8f1a-9cb725e7b267"
      },
      "execution_count": 44,
      "outputs": [
        {
          "output_type": "execute_result",
          "data": {
            "text/plain": [
              "Long                0\n",
              "Lat                 0\n",
              "Size                0\n",
              "Light               0\n",
              "Price_Booking1      0\n",
              "                   ..\n",
              "Price_Booking516    0\n",
              "Price_Booking517    0\n",
              "Price_Booking518    0\n",
              "Price_Booking519    0\n",
              "Price_Booking520    0\n",
              "Length: 524, dtype: int64"
            ]
          },
          "metadata": {},
          "execution_count": 44
        }
      ]
    },
    {
      "cell_type": "markdown",
      "source": [
        "# Data Transform"
      ],
      "metadata": {
        "id": "8iipcyzESPOJ"
      }
    },
    {
      "cell_type": "code",
      "source": [
        "data.Size.unique()"
      ],
      "metadata": {
        "colab": {
          "base_uri": "https://localhost:8080/"
        },
        "id": "vMjowpkMVEL9",
        "outputId": "df56e5c3-2eca-468d-ff6b-070adb8bf0c5"
      },
      "execution_count": 45,
      "outputs": [
        {
          "output_type": "execute_result",
          "data": {
            "text/plain": [
              "array(['small', 'large', 'medium'], dtype=object)"
            ]
          },
          "metadata": {},
          "execution_count": 45
        }
      ]
    },
    {
      "cell_type": "code",
      "source": [
        "data['Size'] = data['Size'].map({'small': 1, 'medium': 2, 'large': 3})"
      ],
      "metadata": {
        "id": "oHMxab8R5X2C"
      },
      "execution_count": 46,
      "outputs": []
    },
    {
      "cell_type": "code",
      "source": [
        "week_num = 520\n",
        "df = pd.DataFrame()\n",
        "for i in range(0, 2000):\n",
        "  df_temp = {\n",
        "    'Date': np.arange(1, week_num + 1),\n",
        "    'Long': [data['Long'][i]] * week_num,\n",
        "    'Lat': [data['Lat'][i]] * week_num,\n",
        "    'Size': [data['Size'][i]] * week_num,\n",
        "    'Light': [data['Light'][i]] * week_num,\n",
        "    'Price': data.iloc[i, 4:].apply(lambda x: eval(x)[0]),\n",
        "    'Ratio': data.iloc[i, 4:].apply(lambda x: eval(x)[1])\n",
        "    }\n",
        "\n",
        "  # Append in DataFrame\n",
        "  df_temp = pd.DataFrame(df_temp)\n",
        "  df = pd.concat([df, df_temp], ignore_index=True)\n",
        "df.sample()"
      ],
      "metadata": {
        "colab": {
          "base_uri": "https://localhost:8080/",
          "height": 81
        },
        "id": "2ZSGRPk9653q",
        "outputId": "9af6e79e-cff2-4706-98fa-676d2ce940c2"
      },
      "execution_count": 47,
      "outputs": [
        {
          "output_type": "execute_result",
          "data": {
            "text/plain": [
              "        Date  Long  Lat  Size  Light      Price   Ratio\n",
              "740950   471   -33    4     2      1  52.224344  0.1655"
            ],
            "text/html": [
              "\n",
              "  <div id=\"df-dcfa320a-a2fc-4708-aab9-a6beec8b0c15\" class=\"colab-df-container\">\n",
              "    <div>\n",
              "<style scoped>\n",
              "    .dataframe tbody tr th:only-of-type {\n",
              "        vertical-align: middle;\n",
              "    }\n",
              "\n",
              "    .dataframe tbody tr th {\n",
              "        vertical-align: top;\n",
              "    }\n",
              "\n",
              "    .dataframe thead th {\n",
              "        text-align: right;\n",
              "    }\n",
              "</style>\n",
              "<table border=\"1\" class=\"dataframe\">\n",
              "  <thead>\n",
              "    <tr style=\"text-align: right;\">\n",
              "      <th></th>\n",
              "      <th>Date</th>\n",
              "      <th>Long</th>\n",
              "      <th>Lat</th>\n",
              "      <th>Size</th>\n",
              "      <th>Light</th>\n",
              "      <th>Price</th>\n",
              "      <th>Ratio</th>\n",
              "    </tr>\n",
              "  </thead>\n",
              "  <tbody>\n",
              "    <tr>\n",
              "      <th>740950</th>\n",
              "      <td>471</td>\n",
              "      <td>-33</td>\n",
              "      <td>4</td>\n",
              "      <td>2</td>\n",
              "      <td>1</td>\n",
              "      <td>52.224344</td>\n",
              "      <td>0.1655</td>\n",
              "    </tr>\n",
              "  </tbody>\n",
              "</table>\n",
              "</div>\n",
              "    <div class=\"colab-df-buttons\">\n",
              "\n",
              "  <div class=\"colab-df-container\">\n",
              "    <button class=\"colab-df-convert\" onclick=\"convertToInteractive('df-dcfa320a-a2fc-4708-aab9-a6beec8b0c15')\"\n",
              "            title=\"Convert this dataframe to an interactive table.\"\n",
              "            style=\"display:none;\">\n",
              "\n",
              "  <svg xmlns=\"http://www.w3.org/2000/svg\" height=\"24px\" viewBox=\"0 -960 960 960\">\n",
              "    <path d=\"M120-120v-720h720v720H120Zm60-500h600v-160H180v160Zm220 220h160v-160H400v160Zm0 220h160v-160H400v160ZM180-400h160v-160H180v160Zm440 0h160v-160H620v160ZM180-180h160v-160H180v160Zm440 0h160v-160H620v160Z\"/>\n",
              "  </svg>\n",
              "    </button>\n",
              "\n",
              "  <style>\n",
              "    .colab-df-container {\n",
              "      display:flex;\n",
              "      gap: 12px;\n",
              "    }\n",
              "\n",
              "    .colab-df-convert {\n",
              "      background-color: #E8F0FE;\n",
              "      border: none;\n",
              "      border-radius: 50%;\n",
              "      cursor: pointer;\n",
              "      display: none;\n",
              "      fill: #1967D2;\n",
              "      height: 32px;\n",
              "      padding: 0 0 0 0;\n",
              "      width: 32px;\n",
              "    }\n",
              "\n",
              "    .colab-df-convert:hover {\n",
              "      background-color: #E2EBFA;\n",
              "      box-shadow: 0px 1px 2px rgba(60, 64, 67, 0.3), 0px 1px 3px 1px rgba(60, 64, 67, 0.15);\n",
              "      fill: #174EA6;\n",
              "    }\n",
              "\n",
              "    .colab-df-buttons div {\n",
              "      margin-bottom: 4px;\n",
              "    }\n",
              "\n",
              "    [theme=dark] .colab-df-convert {\n",
              "      background-color: #3B4455;\n",
              "      fill: #D2E3FC;\n",
              "    }\n",
              "\n",
              "    [theme=dark] .colab-df-convert:hover {\n",
              "      background-color: #434B5C;\n",
              "      box-shadow: 0px 1px 3px 1px rgba(0, 0, 0, 0.15);\n",
              "      filter: drop-shadow(0px 1px 2px rgba(0, 0, 0, 0.3));\n",
              "      fill: #FFFFFF;\n",
              "    }\n",
              "  </style>\n",
              "\n",
              "    <script>\n",
              "      const buttonEl =\n",
              "        document.querySelector('#df-dcfa320a-a2fc-4708-aab9-a6beec8b0c15 button.colab-df-convert');\n",
              "      buttonEl.style.display =\n",
              "        google.colab.kernel.accessAllowed ? 'block' : 'none';\n",
              "\n",
              "      async function convertToInteractive(key) {\n",
              "        const element = document.querySelector('#df-dcfa320a-a2fc-4708-aab9-a6beec8b0c15');\n",
              "        const dataTable =\n",
              "          await google.colab.kernel.invokeFunction('convertToInteractive',\n",
              "                                                    [key], {});\n",
              "        if (!dataTable) return;\n",
              "\n",
              "        const docLinkHtml = 'Like what you see? Visit the ' +\n",
              "          '<a target=\"_blank\" href=https://colab.research.google.com/notebooks/data_table.ipynb>data table notebook</a>'\n",
              "          + ' to learn more about interactive tables.';\n",
              "        element.innerHTML = '';\n",
              "        dataTable['output_type'] = 'display_data';\n",
              "        await google.colab.output.renderOutput(dataTable, element);\n",
              "        const docLink = document.createElement('div');\n",
              "        docLink.innerHTML = docLinkHtml;\n",
              "        element.appendChild(docLink);\n",
              "      }\n",
              "    </script>\n",
              "  </div>\n",
              "\n",
              "\n",
              "    </div>\n",
              "  </div>\n"
            ],
            "application/vnd.google.colaboratory.intrinsic+json": {
              "type": "dataframe",
              "summary": "{\n  \"name\": \"df\",\n  \"rows\": 1,\n  \"fields\": [\n    {\n      \"column\": \"Date\",\n      \"properties\": {\n        \"dtype\": \"number\",\n        \"std\": null,\n        \"min\": 471,\n        \"max\": 471,\n        \"num_unique_values\": 1,\n        \"samples\": [\n          471\n        ],\n        \"semantic_type\": \"\",\n        \"description\": \"\"\n      }\n    },\n    {\n      \"column\": \"Long\",\n      \"properties\": {\n        \"dtype\": \"number\",\n        \"std\": null,\n        \"min\": -33,\n        \"max\": -33,\n        \"num_unique_values\": 1,\n        \"samples\": [\n          -33\n        ],\n        \"semantic_type\": \"\",\n        \"description\": \"\"\n      }\n    },\n    {\n      \"column\": \"Lat\",\n      \"properties\": {\n        \"dtype\": \"number\",\n        \"std\": null,\n        \"min\": 4,\n        \"max\": 4,\n        \"num_unique_values\": 1,\n        \"samples\": [\n          4\n        ],\n        \"semantic_type\": \"\",\n        \"description\": \"\"\n      }\n    },\n    {\n      \"column\": \"Size\",\n      \"properties\": {\n        \"dtype\": \"number\",\n        \"std\": null,\n        \"min\": 2,\n        \"max\": 2,\n        \"num_unique_values\": 1,\n        \"samples\": [\n          2\n        ],\n        \"semantic_type\": \"\",\n        \"description\": \"\"\n      }\n    },\n    {\n      \"column\": \"Light\",\n      \"properties\": {\n        \"dtype\": \"number\",\n        \"std\": null,\n        \"min\": 1,\n        \"max\": 1,\n        \"num_unique_values\": 1,\n        \"samples\": [\n          1\n        ],\n        \"semantic_type\": \"\",\n        \"description\": \"\"\n      }\n    },\n    {\n      \"column\": \"Price\",\n      \"properties\": {\n        \"dtype\": \"number\",\n        \"std\": null,\n        \"min\": 52.22434355059412,\n        \"max\": 52.22434355059412,\n        \"num_unique_values\": 1,\n        \"samples\": [\n          52.22434355059412\n        ],\n        \"semantic_type\": \"\",\n        \"description\": \"\"\n      }\n    },\n    {\n      \"column\": \"Ratio\",\n      \"properties\": {\n        \"dtype\": \"number\",\n        \"std\": null,\n        \"min\": 0.1655,\n        \"max\": 0.1655,\n        \"num_unique_values\": 1,\n        \"samples\": [\n          0.1655\n        ],\n        \"semantic_type\": \"\",\n        \"description\": \"\"\n      }\n    }\n  ]\n}"
            }
          },
          "metadata": {},
          "execution_count": 47
        }
      ]
    },
    {
      "cell_type": "code",
      "source": [
        "plt.figure(figsize=(7, 5))\n",
        "sns.heatmap(df.corr(), annot=True, cmap=\"YlGnBu\")"
      ],
      "metadata": {
        "colab": {
          "base_uri": "https://localhost:8080/",
          "height": 468
        },
        "id": "Ryud_1qCUs9s",
        "outputId": "c87b763e-b9e0-4f3d-847d-28bdea7ec8c0"
      },
      "execution_count": 9,
      "outputs": [
        {
          "output_type": "execute_result",
          "data": {
            "text/plain": [
              "<Axes: >"
            ]
          },
          "metadata": {},
          "execution_count": 9
        },
        {
          "output_type": "display_data",
          "data": {
            "text/plain": [
              "<Figure size 700x500 with 2 Axes>"
            ],
            "image/png": "[encoded data removed]"
          },
          "metadata": {}
        }
      ]
    },
    {
      "cell_type": "markdown",
      "source": [
        "# Training model"
      ],
      "metadata": {
        "id": "FP8tv2YWRiDk"
      }
    },
    {
      "cell_type": "code",
      "source": [
        "# Split the data into features and labels\n",
        "features = df[['Date', 'Long', 'Lat', 'Size', 'Light', 'Price']]\n",
        "labels = df['Ratio']\n",
        "\n",
        "# Split the data into training and validation\n",
        "features_train, features_validation, labels_train, labels_validation = train_test_split(features, labels, test_size=0.2, random_state=42)\n",
        "\n",
        "# Define the model\n",
        "model = Sequential()\n",
        "model.add(Dense(32, input_dim=features_train.shape[1], activation='relu'))\n",
        "model.add(Dense(16, activation='relu'))\n",
        "model.add(Dense(1))\n",
        "\n",
        "# Compile the model\n",
        "model.compile(loss='mean_squared_error', optimizer='adam')\n",
        "\n",
        "# Train the model\n",
        "model.fit(features_train, labels_train, validation_data=(features_validation, labels_validation), epochs=60, batch_size=128)\n"
      ],
      "metadata": {
        "colab": {
          "base_uri": "https://localhost:8080/"
        },
        "id": "wPeZeOsSDq6q",
        "outputId": "1ecb0bda-c0d7-44ab-9853-456525c3f810"
      },
      "execution_count": 31,
      "outputs": [
        {
          "output_type": "stream",
          "name": "stdout",
          "text": [
            "Epoch 1/60\n",
            "6500/6500 [==============================] - 14s 2ms/step - loss: 0.2944 - val_loss: 0.0100\n",
            "Epoch 2/60\n",
            "6500/6500 [==============================] - 15s 2ms/step - loss: 0.0141 - val_loss: 0.0065\n",
            "Epoch 3/60\n",
            "6500/6500 [==============================] - 14s 2ms/step - loss: 0.0118 - val_loss: 0.0064\n",
            "Epoch 4/60\n",
            "6500/6500 [==============================] - 15s 2ms/step - loss: 0.0091 - val_loss: 0.0042\n",
            "Epoch 5/60\n",
            "6500/6500 [==============================] - 14s 2ms/step - loss: 0.0068 - val_loss: 0.0028\n",
            "Epoch 6/60\n",
            "6500/6500 [==============================] - 13s 2ms/step - loss: 0.0056 - val_loss: 0.0033\n",
            "Epoch 7/60\n",
            "6500/6500 [==============================] - 14s 2ms/step - loss: 0.0046 - val_loss: 0.0110\n",
            "Epoch 8/60\n",
            "6500/6500 [==============================] - 14s 2ms/step - loss: 0.0040 - val_loss: 0.0038\n",
            "Epoch 9/60\n",
            "6500/6500 [==============================] - 15s 2ms/step - loss: 0.0033 - val_loss: 0.0018\n",
            "Epoch 10/60\n",
            "6500/6500 [==============================] - 14s 2ms/step - loss: 0.0029 - val_loss: 0.0023\n",
            "Epoch 11/60\n",
            "6500/6500 [==============================] - 14s 2ms/step - loss: 0.0026 - val_loss: 0.0018\n",
            "Epoch 12/60\n",
            "6500/6500 [==============================] - 14s 2ms/step - loss: 0.0024 - val_loss: 0.0017\n",
            "Epoch 13/60\n",
            "6500/6500 [==============================] - 14s 2ms/step - loss: 0.0022 - val_loss: 0.0025\n",
            "Epoch 14/60\n",
            "6500/6500 [==============================] - 14s 2ms/step - loss: 0.0021 - val_loss: 0.0019\n",
            "Epoch 15/60\n",
            "6500/6500 [==============================] - 14s 2ms/step - loss: 0.0019 - val_loss: 0.0027\n",
            "Epoch 16/60\n",
            "6500/6500 [==============================] - 14s 2ms/step - loss: 0.0017 - val_loss: 0.0017\n",
            "Epoch 17/60\n",
            "6500/6500 [==============================] - 15s 2ms/step - loss: 0.0016 - val_loss: 0.0015\n",
            "Epoch 18/60\n",
            "6500/6500 [==============================] - 16s 2ms/step - loss: 0.0016 - val_loss: 0.0015\n",
            "Epoch 19/60\n",
            "6500/6500 [==============================] - 15s 2ms/step - loss: 0.0015 - val_loss: 0.0015\n",
            "Epoch 20/60\n",
            "6500/6500 [==============================] - 14s 2ms/step - loss: 0.0015 - val_loss: 0.0017\n",
            "Epoch 21/60\n",
            "6500/6500 [==============================] - 15s 2ms/step - loss: 0.0014 - val_loss: 0.0013\n",
            "Epoch 22/60\n",
            "6500/6500 [==============================] - 15s 2ms/step - loss: 0.0014 - val_loss: 0.0013\n",
            "Epoch 23/60\n",
            "6500/6500 [==============================] - 13s 2ms/step - loss: 0.0014 - val_loss: 0.0014\n",
            "Epoch 24/60\n",
            "6500/6500 [==============================] - 13s 2ms/step - loss: 0.0014 - val_loss: 0.0013\n",
            "Epoch 25/60\n",
            "6500/6500 [==============================] - 14s 2ms/step - loss: 0.0013 - val_loss: 0.0014\n",
            "Epoch 26/60\n",
            "6500/6500 [==============================] - 13s 2ms/step - loss: 0.0013 - val_loss: 0.0014\n",
            "Epoch 27/60\n",
            "6500/6500 [==============================] - 14s 2ms/step - loss: 0.0013 - val_loss: 0.0012\n",
            "Epoch 28/60\n",
            "6500/6500 [==============================] - 14s 2ms/step - loss: 0.0013 - val_loss: 0.0014\n",
            "Epoch 29/60\n",
            "6500/6500 [==============================] - 14s 2ms/step - loss: 0.0013 - val_loss: 0.0013\n",
            "Epoch 30/60\n",
            "6500/6500 [==============================] - 13s 2ms/step - loss: 0.0013 - val_loss: 0.0012\n",
            "Epoch 31/60\n",
            "6500/6500 [==============================] - 13s 2ms/step - loss: 0.0013 - val_loss: 0.0014\n",
            "Epoch 32/60\n",
            "6500/6500 [==============================] - 14s 2ms/step - loss: 0.0013 - val_loss: 0.0012\n",
            "Epoch 33/60\n",
            "6500/6500 [==============================] - 13s 2ms/step - loss: 0.0013 - val_loss: 0.0012\n",
            "Epoch 34/60\n",
            "6500/6500 [==============================] - 14s 2ms/step - loss: 0.0012 - val_loss: 0.0012\n",
            "Epoch 35/60\n",
            "6500/6500 [==============================] - 13s 2ms/step - loss: 0.0012 - val_loss: 0.0012\n",
            "Epoch 36/60\n",
            "6500/6500 [==============================] - 14s 2ms/step - loss: 0.0012 - val_loss: 0.0012\n",
            "Epoch 37/60\n",
            "6500/6500 [==============================] - 14s 2ms/step - loss: 0.0012 - val_loss: 0.0012\n",
            "Epoch 38/60\n",
            "6500/6500 [==============================] - 14s 2ms/step - loss: 0.0012 - val_loss: 0.0012\n",
            "Epoch 39/60\n",
            "6500/6500 [==============================] - 14s 2ms/step - loss: 0.0012 - val_loss: 0.0012\n",
            "Epoch 40/60\n",
            "6500/6500 [==============================] - 14s 2ms/step - loss: 0.0012 - val_loss: 0.0011\n",
            "Epoch 41/60\n",
            "6500/6500 [==============================] - 14s 2ms/step - loss: 0.0012 - val_loss: 0.0011\n",
            "Epoch 42/60\n",
            "6500/6500 [==============================] - 14s 2ms/step - loss: 0.0012 - val_loss: 0.0013\n",
            "Epoch 43/60\n",
            "6500/6500 [==============================] - 14s 2ms/step - loss: 0.0012 - val_loss: 0.0012\n",
            "Epoch 44/60\n",
            "6500/6500 [==============================] - 14s 2ms/step - loss: 0.0012 - val_loss: 0.0011\n",
            "Epoch 45/60\n",
            "6500/6500 [==============================] - 14s 2ms/step - loss: 0.0012 - val_loss: 0.0011\n",
            "Epoch 46/60\n",
            "6500/6500 [==============================] - 14s 2ms/step - loss: 0.0011 - val_loss: 0.0011\n",
            "Epoch 47/60\n",
            "6500/6500 [==============================] - 14s 2ms/step - loss: 0.0011 - val_loss: 0.0012\n",
            "Epoch 48/60\n",
            "6500/6500 [==============================] - 14s 2ms/step - loss: 0.0011 - val_loss: 0.0011\n",
            "Epoch 49/60\n",
            "6500/6500 [==============================] - 13s 2ms/step - loss: 0.0011 - val_loss: 0.0011\n",
            "Epoch 50/60\n",
            "6500/6500 [==============================] - 14s 2ms/step - loss: 0.0011 - val_loss: 0.0014\n",
            "Epoch 51/60\n",
            "6500/6500 [==============================] - 14s 2ms/step - loss: 0.0011 - val_loss: 0.0011\n",
            "Epoch 52/60\n",
            "6500/6500 [==============================] - 14s 2ms/step - loss: 0.0011 - val_loss: 0.0010\n",
            "Epoch 53/60\n",
            "6500/6500 [==============================] - 14s 2ms/step - loss: 0.0011 - val_loss: 0.0011\n",
            "Epoch 54/60\n",
            "6500/6500 [==============================] - 15s 2ms/step - loss: 0.0011 - val_loss: 0.0011\n",
            "Epoch 55/60\n",
            "6500/6500 [==============================] - 14s 2ms/step - loss: 0.0011 - val_loss: 0.0010\n",
            "Epoch 56/60\n",
            "6500/6500 [==============================] - 14s 2ms/step - loss: 0.0011 - val_loss: 0.0013\n",
            "Epoch 57/60\n",
            "6500/6500 [==============================] - 14s 2ms/step - loss: 0.0011 - val_loss: 0.0012\n",
            "Epoch 58/60\n",
            "6500/6500 [==============================] - 14s 2ms/step - loss: 0.0011 - val_loss: 0.0012\n",
            "Epoch 59/60\n",
            "6500/6500 [==============================] - 14s 2ms/step - loss: 0.0011 - val_loss: 0.0010\n",
            "Epoch 60/60\n",
            "6500/6500 [==============================] - 14s 2ms/step - loss: 0.0011 - val_loss: 0.0011\n"
          ]
        },
        {
          "output_type": "execute_result",
          "data": {
            "text/plain": [
              "<keras.src.callbacks.History at 0x7e182dfe0b50>"
            ]
          },
          "metadata": {},
          "execution_count": 31
        }
      ]
    },
    {
      "cell_type": "markdown",
      "source": [
        "# Find optimal prices for each billboard"
      ],
      "metadata": {
        "id": "XGfwmfNDI80-"
      }
    },
    {
      "cell_type": "code",
      "source": [
        "# Define a range of possible prices\n",
        "opt_price = []\n",
        "range_of_prices = 800\n",
        "\n",
        "for i in range(0, 2000):\n",
        "  longitude = df['Long'][week_num * i]\n",
        "  latitude = df['Lat'][week_num  * i]\n",
        "  size = df['Size'][week_num  * i]\n",
        "  light = df['Light'][week_num  * i]\n",
        "\n",
        "  prices = df['Price'][(i) * week_num : week_num * (i + 1)]\n",
        "  min_price = min(prices)\n",
        "  max_price = max(prices)\n",
        "  prices = np.linspace(min_price, max_price, num=range_of_prices)\n",
        "\n",
        "  features = {\n",
        "      'Date': [week_num + 1] * range_of_prices,\n",
        "      'Long': [longitude] * range_of_prices,\n",
        "      'Lat': [latitude] * range_of_prices,\n",
        "      'Size': [size] * range_of_prices,\n",
        "      'Light': [light] * range_of_prices,\n",
        "      'Price': prices\n",
        "  }\n",
        "  features = pd.DataFrame(features)\n",
        "\n",
        "  # Predict the booking ratios\n",
        "  booking_ratios = model.predict(features)\n",
        "  booking_ratios = booking_ratios.reshape(-1)\n",
        "\n",
        "  # Calculate the expected revenues\n",
        "  revenues = prices * booking_ratios * 7\n",
        "\n",
        "  # Find the price that gives the highest expected revenue\n",
        "  opt_price.append(prices[np.argmax(revenues)])"
      ],
      "metadata": {
        "id": "QjxSG3r7Jp34"
      },
      "execution_count": null,
      "outputs": []
    },
    {
      "cell_type": "markdown",
      "source": [
        "# Save in Output_Bachmark.csv"
      ],
      "metadata": {
        "id": "uvmVYn4qNqhx"
      }
    },
    {
      "cell_type": "code",
      "source": [
        "# Convert the list to a DataFrame\n",
        "output_df = pd.DataFrame(opt_price, columns=['Optimal_Price'])\n",
        "\n",
        "# Save the DataFrame to a CSV file\n",
        "output_df.to_csv('output_benchmark_data.csv', index=False)\n"
      ],
      "metadata": {
        "id": "D6syp8ZuN1St"
      },
      "execution_count": 41,
      "outputs": []
    }
  ]
}